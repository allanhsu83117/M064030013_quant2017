{
 "cells": [
  {
   "cell_type": "markdown",
   "metadata": {},
   "source": [
    "# 第一部分"
   ]
  },
  {
   "cell_type": "code",
   "execution_count": 1,
   "metadata": {
    "collapsed": true
   },
   "outputs": [],
   "source": [
    "#輸入套件\n",
    "import requests\n",
    "from bs4 import BeautifulSoup"
   ]
  },
  {
   "cell_type": "code",
   "execution_count": 2,
   "metadata": {
    "collapsed": true
   },
   "outputs": [],
   "source": [
    "#選定要分析的網頁\n",
    "url = \"http://news.cnyes.com/Content/20151214/20151214080543107512510.shtml?c=headline\""
   ]
  },
  {
   "cell_type": "code",
   "execution_count": 3,
   "metadata": {
    "collapsed": true
   },
   "outputs": [],
   "source": [
    "#用request套件抓取網頁的原始碼,並設定文字編碼\n",
    "r = requests.get(url)\n",
    "r.encoding = \"UTF-8\""
   ]
  },
  {
   "cell_type": "code",
   "execution_count": 4,
   "metadata": {},
   "outputs": [
    {
     "name": "stdout",
     "output_type": "stream",
     "text": [
      "台股上週五因為信心不足，終場下跌100.28點，以8115.89點作收，成交值874.35億元；周線則以下跌282.71點收長黑。展望今(14)日台股，美股在台灣時間上週六清晨以重挫309點坐收，內外交迫，今天恐回測本波起漲點8059點。\n",
      "回顧上週的台股，上週五周線以長黑的下跌282.71點坐收，賣壓蓋頭，主要是內、外資都不挺台股，主力股、法人股的籌碼面混亂。外資因為美國FED即將升息，在期、現聯手偏空操作，內資法人則是因為年底做賬，獲利了結出場。 \n",
      "而在台灣時間上週六(12日)清晨收盤的美股，則因油價接近7年低點，加上併購案暗示經濟不佳，道瓊以重挫309點坐收，再度不利台股的止跌回升。\n",
      "法人預期，若是外、內資繼續賣超台股，今天恐將回測本波起漲點8059點。在此賣壓籠罩的盤勢之下，低P/E、高現金殖利率或產業即將谷底翻升的個股，是現階段可以逢低酌量佈局的投資標的。\n",
      "重大新聞方面，焦點還是中國紫光在台灣與全球的併購。國民黨總統候選人朱立倫日前表態，IC設計產業對台灣經濟非常敏感，若他當選總統，不會允許IC設計業對中國開放投資，因為現在時機尚未成熟。\n",
      "而紫光集團董事長趙偉國昨日對媒體表示，投資力成、矽品與南茂，和軍事、安全沒有關係，紫光也不謀求對企業的控制權，更不存在壟斷問題，他看不出不批准的理由。\n",
      "另一方面，紫光集團下一步將爭取入股美光及英特爾兩大握有記憶體關鍵技術的大廠，合作案已進入緊鑼密鼓階段。值此之際，台廠再度扮演關鍵角色，美光近期將整合旗下華亞科、瑞晶等廠區製造資源，以為與紫光合作預做準備。\n"
     ]
    }
   ],
   "source": [
    "#使用BeautifulSoup套件將文字檔存成html格式,並且搜尋文章主體\n",
    "soup = BeautifulSoup(r.text,\"lxml\")\n",
    "news_text = soup.select(\"div[itemprop=articleBody]\")[0].text\n",
    "print(news_text)"
   ]
  },
  {
   "cell_type": "code",
   "execution_count": 5,
   "metadata": {},
   "outputs": [
    {
     "name": "stdout",
     "output_type": "stream",
     "text": [
      "台股上週五因為信心不足，終場下跌100.28點，以8115.89點作收，成交值874.35億元；周線則以下跌282.71點收長黑。展望今(14)日台股，美股在台灣時間上週六清晨以重挫309點坐收，內外交迫，今天恐回測本波起漲點8059點。\n"
     ]
    }
   ],
   "source": [
    "#搜尋原文的摘要\n",
    "news_summary = soup.p.string\n",
    "print(news_summary)"
   ]
  },
  {
   "cell_type": "code",
   "execution_count": 6,
   "metadata": {
    "collapsed": true
   },
   "outputs": [],
   "source": [
    "#匯入結巴套件\n",
    "import jieba\n",
    "import jieba.analyse"
   ]
  },
  {
   "cell_type": "code",
   "execution_count": 7,
   "metadata": {
    "collapsed": true
   },
   "outputs": [],
   "source": [
    "#使用結巴的字典\n",
    "jieba.set_dictionary('dict.txt.big')"
   ]
  },
  {
   "cell_type": "code",
   "execution_count": 8,
   "metadata": {},
   "outputs": [
    {
     "name": "stderr",
     "output_type": "stream",
     "text": [
      "Building prefix dict from C:\\Users\\User\\Desktop\\NSYSU\\trade\\M064030013_quant217\\HW03\\dict.txt.big ...\n",
      "Loading model from cache C:\\Users\\User\\AppData\\Local\\Temp\\jieba.u3861e74432904e8a8d8a945a43be9786.cache\n",
      "Dumping model to file cache C:\\Users\\User\\AppData\\Local\\Temp\\jieba.u3861e74432904e8a8d8a945a43be9786.cache\n",
      "Loading model cost 7.03659462928772 seconds.\n",
      "Prefix dict has been built succesfully.\n"
     ]
    }
   ],
   "source": [
    "#將剛剛的新聞內容選出文章出現機率前20高的關鍵字\n",
    "keywords = jieba.analyse.extract_tags(news_text, topK=20, withWeight=False)"
   ]
  },
  {
   "cell_type": "code",
   "execution_count": 9,
   "metadata": {},
   "outputs": [
    {
     "name": "stdout",
     "output_type": "stream",
     "text": [
      "紫光/ 台股/ 因為/ 台灣/ 投資/ 坐收/ 美光/ 上週五/ 282.71/ 長黑/ 美股/ 時間/ 週六/ 309/ 漲點/ 8059/ 賣壓/ 外資/ 即將/ 內資\n"
     ]
    }
   ],
   "source": [
    "#顯示出關鍵字\n",
    "print(\"/ \".join(keywords))"
   ]
  },
  {
   "cell_type": "code",
   "execution_count": 10,
   "metadata": {},
   "outputs": [
    {
     "name": "stdout",
     "output_type": "stream",
     "text": [
      "[('紫光', 0.220259857898), ('台股', 0.21252920005155554), ('因為', 0.21252920005155554), ('台灣', 0.21252920005155554), ('投資', 0.15939690003866666), ('坐收', 0.14190108152), ('美光', 0.12356157912888889), ('上週五', 0.10626460002577777), ('282.71', 0.10626460002577777), ('長黑', 0.10626460002577777), ('美股', 0.10626460002577777), ('時間', 0.10626460002577777), ('週六', 0.10626460002577777), ('309', 0.10626460002577777), ('漲點', 0.10626460002577777), ('8059', 0.10626460002577777), ('賣壓', 0.10626460002577777), ('外資', 0.10626460002577777), ('即將', 0.10626460002577777), ('內資', 0.10626460002577777)]\n"
     ]
    }
   ],
   "source": [
    "#用repr的函式顯示出第8行挑選關鍵字程式碼運行的內容,也就是將每個關鍵字的機率列出\n",
    "print(repr(jieba.analyse.extract_tags(news_text, topK=20, withWeight=True)))#.decode('unicode-escape')"
   ]
  },
  {
   "cell_type": "code",
   "execution_count": 11,
   "metadata": {},
   "outputs": [
    {
     "name": "stdout",
     "output_type": "stream",
     "text": [
      "[('股', 1.0), ('法人', 0.6635086765422397), ('回測', 0.6524883245308195), ('坐收', 0.6124837580073234), ('是', 0.5933826681331339), ('力成', 0.590008430342853), ('值', 0.5638312375219126), ('偏空', 0.5147181770757772), ('周線', 0.49839025698385936), ('下跌', 0.4883853086538684)]\n"
     ]
    }
   ],
   "source": [
    "#用repr的函式顯示出挑選關鍵字程式碼運行的內容,也就是將排名前10高的關鍵字的機率列出\n",
    "print(repr(jieba.analyse.textrank(news_text, topK=10, withWeight=True)))#.decode('unicode-escape')"
   ]
  },
  {
   "cell_type": "code",
   "execution_count": 12,
   "metadata": {
    "collapsed": true
   },
   "outputs": [],
   "source": [
    "#建立一個關鍵字索引的函式,其中會用到兩個變數,enumerate會將同時list的索引值與資料的值輸出\n",
    "def index_of_keyword(sentences, keyword):\n",
    "    for i, s in enumerate(sentences):\n",
    "        if keyword in s:\n",
    "              return i\n",
    "    return -1"
   ]
  },
  {
   "cell_type": "code",
   "execution_count": 13,
   "metadata": {},
   "outputs": [
    {
     "data": {
      "text/plain": [
       "13"
      ]
     },
     "execution_count": 13,
     "metadata": {},
     "output_type": "execute_result"
    }
   ],
   "source": [
    "#將文章隔行刪除,並用句號分割,最後顯示出有多少句子\n",
    "sentences = news_text.replace(\"\\n\",\"\").split(u\"。\")\n",
    "len(sentences)"
   ]
  },
  {
   "cell_type": "code",
   "execution_count": 14,
   "metadata": {},
   "outputs": [
    {
     "name": "stdout",
     "output_type": "stream",
     "text": [
      "台股上週五因為信心不足，終場下跌100.28點，以8115.89點作收，成交值874.35億元；周線則以下跌282.71點收長黑。\n",
      "展望今(14)日台股，美股在台灣時間上週六清晨以重挫309點坐收，內外交迫，今天恐回測本波起漲點8059點。\n",
      "回顧上週的台股，上週五周線以長黑的下跌282.71點坐收，賣壓蓋頭，主要是內、外資都不挺台股，主力股、法人股的籌碼面混亂。\n",
      "外資因為美國FED即將升息，在期、現聯手偏空操作，內資法人則是因為年底做賬，獲利了結出場。\n",
      " 而在台灣時間上週六(12日)清晨收盤的美股，則因油價接近7年低點，加上併購案暗示經濟不佳，道瓊以重挫309點坐收，再度不利台股的止跌回升。\n",
      "法人預期，若是外、內資繼續賣超台股，今天恐將回測本波起漲點8059點。\n",
      "在此賣壓籠罩的盤勢之下，低P/E、高現金殖利率或產業即將谷底翻升的個股，是現階段可以逢低酌量佈局的投資標的。\n",
      "重大新聞方面，焦點還是中國紫光在台灣與全球的併購。\n",
      "國民黨總統候選人朱立倫日前表態，IC設計產業對台灣經濟非常敏感，若他當選總統，不會允許IC設計業對中國開放投資，因為現在時機尚未成熟。\n",
      "而紫光集團董事長趙偉國昨日對媒體表示，投資力成、矽品與南茂，和軍事、安全沒有關係，紫光也不謀求對企業的控制權，更不存在壟斷問題，他看不出不批准的理由。\n",
      "另一方面，紫光集團下一步將爭取入股美光及英特爾兩大握有記憶體關鍵技術的大廠，合作案已進入緊鑼密鼓階段。\n",
      "值此之際，台廠再度扮演關鍵角色，美光近期將整合旗下華亞科、瑞晶等廠區製造資源，以為與紫光合作預做準備。\n",
      "。\n"
     ]
    }
   ],
   "source": [
    "#利用迴圈顯示出13行句子\n",
    "for sentence in sentences:\n",
    "    print(sentence + u\"。\")"
   ]
  },
  {
   "cell_type": "code",
   "execution_count": 15,
   "metadata": {},
   "outputs": [
    {
     "data": {
      "text/plain": [
       "7"
      ]
     },
     "execution_count": 15,
     "metadata": {},
     "output_type": "execute_result"
    }
   ],
   "source": [
    "#利用剛剛建立的關鍵字索引,輸入sentences與紫光這兩個變數,最後顯示出它在第8句\n",
    "index_of_keyword(sentences,u\"紫光\")"
   ]
  },
  {
   "cell_type": "code",
   "execution_count": 16,
   "metadata": {},
   "outputs": [
    {
     "name": "stdout",
     "output_type": "stream",
     "text": [
      "重大新聞方面，焦點還是中國紫光在台灣與全球的併購。\n"
     ]
    }
   ],
   "source": [
    "#顯示出第8句的內容,並在結尾加入句點\n",
    "print(sentences[index_of_keyword(sentences,u\"紫光\")]+u\"。\")"
   ]
  },
  {
   "cell_type": "code",
   "execution_count": 17,
   "metadata": {},
   "outputs": [
    {
     "data": {
      "text/plain": [
       "64"
      ]
     },
     "execution_count": 17,
     "metadata": {},
     "output_type": "execute_result"
    }
   ],
   "source": [
    "#sentences第0句有64個字\n",
    "len(sentences[0])"
   ]
  },
  {
   "cell_type": "code",
   "execution_count": 18,
   "metadata": {
    "collapsed": true
   },
   "outputs": [],
   "source": [
    "#建立一個空白list,利用迴圈搜尋前3個關鍵字所在的句子,加入空白的list中\n",
    "s_index = []\n",
    "for keyword in keywords[:3]:\n",
    "    s_index.append(index_of_keyword(sentences,keyword))\n",
    "#並將得到的句子轉成索引值\n",
    "s_set = set(s_index)\n",
    "s_index = list(s_set)"
   ]
  },
  {
   "cell_type": "code",
   "execution_count": 19,
   "metadata": {
    "collapsed": true
   },
   "outputs": [],
   "source": [
    "#建立一個空白的字串,利用找好的索引值回傳至sentences中,列出該句子,並加入句號\n",
    "summary = \"\"\n",
    "for i in s_index:\n",
    "    summary += sentences[i]+u\"。\""
   ]
  },
  {
   "cell_type": "code",
   "execution_count": 20,
   "metadata": {},
   "outputs": [
    {
     "name": "stdout",
     "output_type": "stream",
     "text": [
      "台股上週五因為信心不足，終場下跌100.28點，以8115.89點作收，成交值874.35億元；周線則以下跌282.71點收長黑。重大新聞方面，焦點還是中國紫光在台灣與全球的併購。\n"
     ]
    }
   ],
   "source": [
    "#顯示出最後摘要的新聞內容\n",
    "print(summary)"
   ]
  },
  {
   "cell_type": "code",
   "execution_count": 21,
   "metadata": {},
   "outputs": [
    {
     "name": "stdout",
     "output_type": "stream",
     "text": [
      "台股上週五因為信心不足，終場下跌100.28點，以8115.89點作收，成交值874.35億元；周線則以下跌282.71點收長黑。展望今(14)日台股，美股在台灣時間上週六清晨以重挫309點坐收，內外交迫，今天恐回測本波起漲點8059點。\n"
     ]
    }
   ],
   "source": [
    "#顯示出原新聞的摘要\n",
    "print(news_summary)"
   ]
  },
  {
   "cell_type": "markdown",
   "metadata": {},
   "source": [
    "# 第二部分\n",
    "## 使用newspaper套件\n",
    "### 很可惜摘要與關鍵字只限於western language\n",
    "### 但中文新聞仍然可抓取標題與內文"
   ]
  },
  {
   "cell_type": "code",
   "execution_count": 22,
   "metadata": {
    "collapsed": true
   },
   "outputs": [],
   "source": [
    "#使用newspaper套件\n",
    "from newspaper import Article"
   ]
  },
  {
   "cell_type": "code",
   "execution_count": 23,
   "metadata": {
    "collapsed": true
   },
   "outputs": [],
   "source": [
    "#選定欲抓取的網頁\n",
    "url = 'http://edition.cnn.com/travel/article/soneva-jani-maldives/index.html'"
   ]
  },
  {
   "cell_type": "code",
   "execution_count": 24,
   "metadata": {
    "collapsed": true
   },
   "outputs": [],
   "source": [
    "#抓取新聞,並設定語言\n",
    "a = Article(url, language='en') "
   ]
  },
  {
   "cell_type": "code",
   "execution_count": 25,
   "metadata": {},
   "outputs": [],
   "source": [
    "#下載新聞,並且用parse()呼叫新聞內容與標題\n",
    "a.download()\n",
    "a.parse()"
   ]
  },
  {
   "cell_type": "code",
   "execution_count": 26,
   "metadata": {
    "scrolled": true
   },
   "outputs": [
    {
     "name": "stdout",
     "output_type": "stream",
     "text": [
      "(CNN) — When it comes to Maldives travel , you have to try pretty hard to have a bad vacation.\n",
      "\n",
      "Made up of more than 1,000 islands that sit in 26 reef-framed atolls, this tiny nation's waters of seemingly infinite shades of blue and green slide into patches of white sands and dark corals.\n",
      "\n",
      "There are now over 100 resorts occupying these tiny parcels of paradise, offering various degrees of luxury.\n",
      "\n",
      "But few can match the experience you'll walk away from Soneva Jani with.\n",
      "\n",
      "One of the newest and most expensive resorts in the country, it's made up of just 24 over-water villas -- plus one four-bedroom beach villa -- on the uninhabited island of Medhufaru, which sits within a large, private lagoon in the Noonu Atoll.\n",
      "\n",
      "In spite of the island's size, much of the resort was built over the water. This includes the \"The Gathering,\" -- a huge, open-air, three-story structure that houses the resort's restaurant, fitness center, spa and kids' club.\n",
      "\n",
      "The smallest available villas range from $3,000-$5,000 per night, depending on the season, while the largest go for about $20,000 per night.\n",
      "\n",
      "Soneva Jani's not your typical luxury resort. Here's what visitors at this \"no shoes, no news\" property can expect.\n",
      "\n",
      "Not all over-water villas are created equal\n",
      "\n",
      "In a destination with so many over-water villa options, what justifies the price? The difference is in the decadent details, which guests get a taste of even before they board the seaplane for the 40-minute ride from the capital, Male.\n",
      "\n",
      "After checking in for your Trans Maldivian Airways flight, you're shuttled over to Soneva Jani's private lounge and offered snacks, beverages and massages.\n",
      "\n",
      "Then you're asked to make some very important decisions via an iPad-based questionnaire -- and by important we're talking about what kind of pillows you want on your bed (there are about a dozen options).\n",
      "\n",
      "Next question addresses what fragrance you want sprayed onto that pillow -- bergamot, lemongrass, orange or peppermint?\n",
      "\n",
      "It doesn't end there.\n",
      "\n",
      "Favorite alcoholic beverage? Favorite food? Guilty pleasure snack? What music do you want playing in your villa when you arrive?\n",
      "\n",
      "It's all there for the choosing.\n",
      "\n",
      "The arrival into Soneva Jani itself is no less anticipatory. Guests exit the floating sea plane at Soneva's private \"airport\" -- a small, wooden dock in the middle of the sea -- before boarding a speed boat to be whisked to the arrival jetty, where they're greeted with fresh coconut water.\n",
      "\n",
      "Retractable roofs, fine Chinese liquor and private pools\n",
      "\n",
      "Soneva Jani's 24 water villas range from one-bedroom, 416 square-meter villas up to the four-bedroom 1,226-square meter option.\n",
      "\n",
      "Each villa has its own lagoon-facing private pool that brilliantly mirrors the colors of the sea -- a few come with their own private water slides.\n",
      "\n",
      "Prefer to stay on land? You'll have to book into the 1,752 square meter four-bedroom beach villa -- the only one that's not on stilts, well away from the other accommodations.\n",
      "\n",
      "One of Soneva Jani's 3-bedroom over-water villas. Courtesy Soneva Jani\n",
      "\n",
      "Among the most original options inside the villas, each master bedroom has its own retractable roof that slides back for stargazing.\n",
      "\n",
      "There's also an en suite air-conditioned pantry stocked with an espresso machine, a wine fridge, snacks and beverages. A sign of the times, there's even a couple of bottles of high quality Baijiu liquor to cater to the resort's growing number of Chinese guests.\n",
      "\n",
      "For more on the villa amenities check out the above gallery.\n",
      "\n",
      "Leave the suit and tie at home\n",
      "\n",
      "So is Soneva Jani worth the price? It all depends what kind of traveler you are.\n",
      "\n",
      "Luxurious as it is, Soneva Jani isn't for everyone.\n",
      "\n",
      "Traditional luxury travelers who demand dress codes, opulence and formalities will want to avoid this place.\n",
      "\n",
      "This is a resort for execs who prefer to ditch the suit and tie or the high heels -- in fact you're asked to kick off your shoes and put them in a bag as soon as you land, as part of the resort's \"no news, no shoes\" motto.\n",
      "\n",
      "\"The philosophy of the Soneva brand is about slow life, it's about intelligent luxury,\" says Soneva Jani resort manager Fathimath Shaazleen.\n",
      "\n",
      "\"When the guests arrive on the island we want to make them feel relaxed.\"\n",
      "\n",
      "Soneva Jani's typical guest?\n",
      "\n",
      "\"I would say that the travelers who come to Soneva are well traveled, they are concerned about the environment and the footprint they will be making,\" says Shaazleen. \"At the same time, they will be looking to have a great experience.\"\n",
      "\n",
      "Mr. and Mrs. Friday\n",
      "\n",
      "Another highlight of Soneva is getting to know your personal host, Mr. -- or Mrs. -- Friday.\n",
      "\n",
      "During a recent visit, our \"Mr. Friday \" was the indefatigable Laamey, a born and bred Maldivian.\n",
      "\n",
      "He pulled quadruple duty as concierge, raconteur, chauffeur and naturist, explaining the flora and fauna with great enthusiasm as he took us on a resort tour in a golf buggy, later joining us on a private sunset boat tour in search of dolphins (we saw several bottle-nosed beauties jumping in front of the boat).\n",
      "\n",
      "The Mr. Friday idea was hatched at the Soneva brand's other Maldives resort, Soneva Fushi, which opened in 1995.\n",
      "\n",
      "\"The whole concept of Soneva Fushi, the experience, was based on Robinson Crusoe. And that's how the concept of Mr. and Mrs. Friday came in,\" says Shaazleen, who has worked at all three of the brand's resorts.\n",
      "\n",
      "\"We wanted to have someone guide the guests through their experiences while they are staying at any of the Soneva properties. That person is not a typical butler, but someone who's more like a host.\"\n",
      "\n",
      "Privacy guaranteed\n",
      "\n",
      "Due to the small number of villas, the resort feels blessedly empty and quiet -- with the exception of breakfast hours, when many guests pedal their Soneva-issued bikes down the boardwalk to \"The Gathering\" for their first meal of the day.\n",
      "\n",
      "Tempting as it is to stay poolside in your villa with a book, there's a top-class water sports center offering complimentary kayaks, stand-up paddleboards, windsurfing, kite-surfing and catamarans.\n",
      "\n",
      "Boats can be booked for private or group snorkeling and diving excursions.\n",
      "\n",
      "Among the must-try culinary options is a private beach dining experience, available for any meal.\n",
      "\n",
      "When hunger pangs hit outside of meal times, there's complimentary ice cream, chocolate and cheese in \"The Gathering.\"\n",
      "\n",
      "Related content World's most luxurious chain hotels\n",
      "\n",
      "Astronomy buffs can go stargazing at the onsite observatory but for stars of a different sort there's Cinema Paradiso, the resort's over-water theater.\n",
      "\n",
      "During our visit they were screening \"Scent of a Woman.\" Guests curled up in amongst pillows and blankets on the \"catamaran nets\"-- all wearing Bluetooth headphones.\n",
      "\n",
      "Why the headsets? Turns out the echoes of Al Pacino yelling \"Whoo-ah\" across the lagoon might spook the area's nesting birds.\n",
      "\n",
      "Indeed, Soneva Jani doesn't just pay lip service to issues of sustainability and the environment.\n",
      "\n",
      "The resort itself was built with all sustainable material. Most of the menu items are organic, and all waste is sent to the resort's eco-center for processing. Soneva Jani also produces its own water, which is served in glass bottles to cut down on plastic.\n",
      "\n",
      "\"It's not just waste management, we call it the waste wealth,\" says Shaazleen. \"So we make sure that it's all reused, whatever small thing it is.\"\n"
     ]
    }
   ],
   "source": [
    "#顯示新聞內容\n",
    "print(a.text)"
   ]
  },
  {
   "cell_type": "code",
   "execution_count": 27,
   "metadata": {},
   "outputs": [
    {
     "name": "stdout",
     "output_type": "stream",
     "text": [
      "Soneva Jani: Inside an exclusive Maldives resort\n"
     ]
    }
   ],
   "source": [
    "#顯示新聞標題\n",
    "print(a.title)"
   ]
  },
  {
   "cell_type": "code",
   "execution_count": 28,
   "metadata": {
    "collapsed": true
   },
   "outputs": [],
   "source": [
    "#使用nlp()尋找摘要與關鍵字,此功能只能使用western language,無法使用中文,有些可惜\n",
    "a.nlp()"
   ]
  },
  {
   "cell_type": "code",
   "execution_count": 29,
   "metadata": {},
   "outputs": [
    {
     "name": "stdout",
     "output_type": "stream",
     "text": [
      "But few can match the experience you'll walk away from Soneva Jani with.\n",
      "Not all over-water villas are created equalIn a destination with so many over-water villa options, what justifies the price?\n",
      "\"The philosophy of the Soneva brand is about slow life, it's about intelligent luxury,\" says Soneva Jani resort manager Fathimath Shaazleen.\n",
      "The Mr. Friday idea was hatched at the Soneva brand's other Maldives resort, Soneva Fushi, which opened in 1995.\n",
      "Indeed, Soneva Jani doesn't just pay lip service to issues of sustainability and the environment.\n"
     ]
    }
   ],
   "source": [
    "#顯示新聞摘要\n",
    "print(a.summary)"
   ]
  },
  {
   "cell_type": "code",
   "execution_count": 30,
   "metadata": {},
   "outputs": [
    {
     "name": "stdout",
     "output_type": "stream",
     "text": [
      "['jani', 'soneva', 'resort', 'guests', 'maldives', 'villa', 'overwater', 'villas', 'private', 'water', 'inside', 'resorts', 'exclusive']\n"
     ]
    }
   ],
   "source": [
    "#顯示關鍵字\n",
    "print(a.keywords)"
   ]
  }
 ],
 "metadata": {
  "kernelspec": {
   "display_name": "Python 3",
   "language": "python",
   "name": "python3"
  },
  "language_info": {
   "codemirror_mode": {
    "name": "ipython",
    "version": 3
   },
   "file_extension": ".py",
   "mimetype": "text/x-python",
   "name": "python",
   "nbconvert_exporter": "python",
   "pygments_lexer": "ipython3",
   "version": "3.6.1"
  }
 },
 "nbformat": 4,
 "nbformat_minor": 2
}
