{
 "cells": [
  {
   "cell_type": "code",
   "execution_count": 1,
   "metadata": {
    "collapsed": true
   },
   "outputs": [],
   "source": [
    "import ffn\n",
    "%matplotlib inline\n",
    "import numpy as np\n",
    "import pandas as pd\n",
    "import pandas_datareader.data as web\n",
    "from datetime import datetime\n",
    "import pickle\n",
    "import talib\n",
    "from talib import MA_Type\n",
    "import requests\n",
    "import io\n",
    "import matplotlib.pyplot as plt"
   ]
  },
  {
   "cell_type": "code",
   "execution_count": 2,
   "metadata": {
    "collapsed": true
   },
   "outputs": [],
   "source": [
    "# 讀出預先下載好的股價資料\n",
    "with open('stockdata', 'rb') as f:\n",
    "    data = pickle.load(file=f)"
   ]
  },
  {
   "cell_type": "markdown",
   "metadata": {},
   "source": [
    "# Q1. 畫出 Diamond Shape"
   ]
  },
  {
   "cell_type": "code",
   "execution_count": 3,
   "metadata": {},
   "outputs": [
    {
     "name": "stdout",
     "output_type": "stream",
     "text": [
      "     *\n",
      "    ***\n",
      "   *****\n",
      "  *******\n",
      " *********\n",
      "  *******\n",
      "   *****\n",
      "    ***\n",
      "     *\n"
     ]
    }
   ],
   "source": [
    "#菱形\n",
    "def diamond(h):\n",
    "    for i in range(h):\n",
    "        print(\" \"*(h-i)+\"*\"*(i)*2+\"*\")\n",
    "    for j in range(h-1):\n",
    "        print(\" \"*(j+2)+\"*\"*(h-j-2)*2+\"*\")\n",
    "\n",
    "diamond(5)"
   ]
  },
  {
   "cell_type": "markdown",
   "metadata": {},
   "source": [
    "# Q2. 刪除重複性資料\n",
    "\n",
    "從 symbols01.txt 跟 symbols02.txt 讀入兩組股票代號，合併兩組代號，輸出一份無重複的股票代號到 symbols03.txt。"
   ]
  },
  {
   "cell_type": "code",
   "execution_count": 4,
   "metadata": {
    "collapsed": true
   },
   "outputs": [],
   "source": [
    "#開啟symbols01的文字檔,做部分處理後,轉成set格式\n",
    "with open('symbols01.txt','r') as f:\n",
    "    symbols_01=f.read()\n",
    "    symbols_01=symbols_01.strip().split(\"\\n\")\n",
    "    set_01=set(symbols_01)"
   ]
  },
  {
   "cell_type": "code",
   "execution_count": 5,
   "metadata": {
    "collapsed": true
   },
   "outputs": [],
   "source": [
    "#開啟symbols02的文字檔,做部分處理後,轉成set格式\n",
    "with open('symbols02.txt','r') as f:\n",
    "    symbols_02=f.read()\n",
    "    symbols_02=symbols_02.strip().split(\"\\n\")\n",
    "    set_02=set(symbols_02)"
   ]
  },
  {
   "cell_type": "code",
   "execution_count": 6,
   "metadata": {
    "collapsed": true
   },
   "outputs": [],
   "source": [
    "#set_01.set_02的聯集set會自動扣除兩個檔案重複的部分,不會重複包含第2次\n",
    "set_03 = (set_01 | set_02)\n",
    "\n",
    "#轉成 list容器型態\n",
    "symbols03 = list(set_03)"
   ]
  },
  {
   "cell_type": "code",
   "execution_count": 7,
   "metadata": {
    "collapsed": true
   },
   "outputs": [],
   "source": [
    "#將 symbols03輸出成文字檔\n",
    "with open('symbols03.txt','w') as f:\n",
    "    for symbol in symbols03:\n",
    "        f.write(symbol.strip().upper()+\"\\n\")"
   ]
  },
  {
   "cell_type": "markdown",
   "metadata": {},
   "source": [
    "# Q3. 下載台灣上市公司基本資料"
   ]
  },
  {
   "cell_type": "markdown",
   "metadata": {},
   "source": [
    "寫一個程式從 [http://dts.twse.com.tw/opendata/t187ap03_L.csv](http://dts.twse.com.tw/opendata/t187ap03_L.csv) 下載台灣上市公司基本資料，並輸出成 pandas dataframe。"
   ]
  },
  {
   "cell_type": "code",
   "execution_count": 8,
   "metadata": {},
   "outputs": [
    {
     "data": {
      "text/html": [
       "<div>\n",
       "<style>\n",
       "    .dataframe thead tr:only-child th {\n",
       "        text-align: right;\n",
       "    }\n",
       "\n",
       "    .dataframe thead th {\n",
       "        text-align: left;\n",
       "    }\n",
       "\n",
       "    .dataframe tbody tr th {\n",
       "        vertical-align: top;\n",
       "    }\n",
       "</style>\n",
       "<table border=\"1\" class=\"dataframe\">\n",
       "  <thead>\n",
       "    <tr style=\"text-align: right;\">\n",
       "      <th></th>\n",
       "      <th>公司代號</th>\n",
       "      <th>公司名稱</th>\n",
       "      <th>產業別</th>\n",
       "      <th>住址</th>\n",
       "      <th>營利事業統一編號</th>\n",
       "      <th>董事長</th>\n",
       "      <th>總經理</th>\n",
       "      <th>發言人</th>\n",
       "      <th>發言人職稱</th>\n",
       "      <th>代理發言人</th>\n",
       "      <th>...</th>\n",
       "      <th>特別股</th>\n",
       "      <th>編制財務報表類型</th>\n",
       "      <th>股票過戶機構</th>\n",
       "      <th>過戶電話</th>\n",
       "      <th>過戶地址</th>\n",
       "      <th>英文簡稱</th>\n",
       "      <th>英文通訊地址</th>\n",
       "      <th>傳真機號碼</th>\n",
       "      <th>電子郵件信箱</th>\n",
       "      <th>網址</th>\n",
       "    </tr>\n",
       "  </thead>\n",
       "  <tbody>\n",
       "    <tr>\n",
       "      <th>0</th>\n",
       "      <td>1101</td>\n",
       "      <td>台灣水泥股份有限公司</td>\n",
       "      <td>水泥工業</td>\n",
       "      <td>台北市中山北路2段113號</td>\n",
       "      <td>11913502.0</td>\n",
       "      <td>張安平</td>\n",
       "      <td>李鐘培</td>\n",
       "      <td>黃健強</td>\n",
       "      <td>資深副總經理</td>\n",
       "      <td>蔡立文</td>\n",
       "      <td>...</td>\n",
       "      <td>0.0</td>\n",
       "      <td>1.0</td>\n",
       "      <td>中國信託商業銀行代理部</td>\n",
       "      <td>66365566</td>\n",
       "      <td>台北市重慶南路一段83號5樓</td>\n",
       "      <td>TCC</td>\n",
       "      <td>No.113, Sec.2, Zhongshan N. Rd.,Taipei City 10...</td>\n",
       "      <td>(02)2531-6529</td>\n",
       "      <td>finance@taiwancement.com</td>\n",
       "      <td>http://www.taiwancement.com</td>\n",
       "    </tr>\n",
       "    <tr>\n",
       "      <th>1</th>\n",
       "      <td>1102</td>\n",
       "      <td>亞洲水泥股份有限公司</td>\n",
       "      <td>水泥工業</td>\n",
       "      <td>台北市大安區敦化南路2段207號30、31樓</td>\n",
       "      <td>3244509.0</td>\n",
       "      <td>徐旭東</td>\n",
       "      <td>李坤炎</td>\n",
       "      <td>周維崑</td>\n",
       "      <td>副總經理</td>\n",
       "      <td>吳玲綾</td>\n",
       "      <td>...</td>\n",
       "      <td>0.0</td>\n",
       "      <td>1.0</td>\n",
       "      <td>亞東證券股份有限公司</td>\n",
       "      <td>02-2361-8608</td>\n",
       "      <td>台北市重慶南路一段86號3樓</td>\n",
       "      <td>ACC</td>\n",
       "      <td>30TH FLOOR,TAIPEI METRO TOWER,207.TUN HWA SOUT...</td>\n",
       "      <td>02-2378-5191</td>\n",
       "      <td>service@acc.com.tw</td>\n",
       "      <td>www.acc.com.tw</td>\n",
       "    </tr>\n",
       "    <tr>\n",
       "      <th>2</th>\n",
       "      <td>1103</td>\n",
       "      <td>嘉新水泥股份有限公司</td>\n",
       "      <td>水泥工業</td>\n",
       "      <td>台北市中山北路2段96號</td>\n",
       "      <td>11892801.0</td>\n",
       "      <td>張剛綸</td>\n",
       "      <td>祁士鉅</td>\n",
       "      <td>王立心</td>\n",
       "      <td>執行副總經理</td>\n",
       "      <td>余曉芸</td>\n",
       "      <td>...</td>\n",
       "      <td>0.0</td>\n",
       "      <td>1.0</td>\n",
       "      <td>群益金鼎證券股份有限公司股代部</td>\n",
       "      <td>(02)2702-3999</td>\n",
       "      <td>台北市敦化南路2段97號地下2樓</td>\n",
       "      <td>CHC</td>\n",
       "      <td>No.96, Sec. 2, Zhongshan N. Rd., Zhongshan Dis...</td>\n",
       "      <td>(02)2511-4002</td>\n",
       "      <td>investor-relations@chcgroup.com.tw</td>\n",
       "      <td>www.chcgroup.com.tw</td>\n",
       "    </tr>\n",
       "    <tr>\n",
       "      <th>3</th>\n",
       "      <td>1104</td>\n",
       "      <td>環球水泥股份有限公司</td>\n",
       "      <td>水泥工業</td>\n",
       "      <td>台北市南京東路二段125號10樓</td>\n",
       "      <td>7568009.0</td>\n",
       "      <td>侯博義</td>\n",
       "      <td>侯博義</td>\n",
       "      <td>楊宗仁</td>\n",
       "      <td>經理</td>\n",
       "      <td>詹志鴻</td>\n",
       "      <td>...</td>\n",
       "      <td>0.0</td>\n",
       "      <td>1.0</td>\n",
       "      <td>凱基證券股份有限公司股務代理部</td>\n",
       "      <td>02-23892999</td>\n",
       "      <td>﹝100﹞台北市重慶南路一段2號5樓</td>\n",
       "      <td>UCC</td>\n",
       "      <td>10th F1., 125 Nanking E.Rd Sec. 2,Taipei Taiwan</td>\n",
       "      <td>02-25075870</td>\n",
       "      <td>ucc@ucctw.com</td>\n",
       "      <td>www.ucctw.com</td>\n",
       "    </tr>\n",
       "    <tr>\n",
       "      <th>4</th>\n",
       "      <td>1108</td>\n",
       "      <td>幸福水泥股份有限公司</td>\n",
       "      <td>水泥工業</td>\n",
       "      <td>台北市松江路237號15樓</td>\n",
       "      <td>40601248.0</td>\n",
       "      <td>陳兩傳</td>\n",
       "      <td>陳兩傳</td>\n",
       "      <td>溫秀菊</td>\n",
       "      <td>財務部經理</td>\n",
       "      <td>陳一誠</td>\n",
       "      <td>...</td>\n",
       "      <td>0.0</td>\n",
       "      <td>1.0</td>\n",
       "      <td>永豐金證券股務代理</td>\n",
       "      <td>2381-6288</td>\n",
       "      <td>台北市中正區博愛路17號3樓</td>\n",
       "      <td>LUCKY CEMENT</td>\n",
       "      <td>15TH FL.,NO.237,SUNG KIANG RD.,TAIPEI,TAIWAN,R...</td>\n",
       "      <td>25048672</td>\n",
       "      <td>wendy@luckygrp,com.tw</td>\n",
       "      <td>www.luckygrp.com.tw</td>\n",
       "    </tr>\n",
       "  </tbody>\n",
       "</table>\n",
       "<p>5 rows × 26 columns</p>\n",
       "</div>"
      ],
      "text/plain": [
       "   公司代號        公司名稱   產業別                      住址    營利事業統一編號  董事長  總經理  發言人  \\\n",
       "0  1101  台灣水泥股份有限公司  水泥工業           台北市中山北路2段113號  11913502.0  張安平  李鐘培  黃健強   \n",
       "1  1102  亞洲水泥股份有限公司  水泥工業  台北市大安區敦化南路2段207號30、31樓   3244509.0  徐旭東  李坤炎  周維崑   \n",
       "2  1103  嘉新水泥股份有限公司  水泥工業            台北市中山北路2段96號  11892801.0  張剛綸  祁士鉅  王立心   \n",
       "3  1104  環球水泥股份有限公司  水泥工業        台北市南京東路二段125號10樓   7568009.0  侯博義  侯博義  楊宗仁   \n",
       "4  1108  幸福水泥股份有限公司  水泥工業           台北市松江路237號15樓  40601248.0  陳兩傳  陳兩傳  溫秀菊   \n",
       "\n",
       "    發言人職稱 代理發言人             ...               特別股  編制財務報表類型           股票過戶機構  \\\n",
       "0  資深副總經理   蔡立文             ...               0.0       1.0      中國信託商業銀行代理部   \n",
       "1    副總經理   吳玲綾             ...               0.0       1.0       亞東證券股份有限公司   \n",
       "2  執行副總經理   余曉芸             ...               0.0       1.0  群益金鼎證券股份有限公司股代部   \n",
       "3      經理   詹志鴻             ...               0.0       1.0  凱基證券股份有限公司股務代理部   \n",
       "4   財務部經理   陳一誠             ...               0.0       1.0        永豐金證券股務代理   \n",
       "\n",
       "            過戶電話                過戶地址          英文簡稱  \\\n",
       "0       66365566      台北市重慶南路一段83號5樓           TCC   \n",
       "1   02-2361-8608      台北市重慶南路一段86號3樓           ACC   \n",
       "2  (02)2702-3999    台北市敦化南路2段97號地下2樓           CHC   \n",
       "3    02-23892999  ﹝100﹞台北市重慶南路一段2號5樓           UCC   \n",
       "4      2381-6288      台北市中正區博愛路17號3樓  LUCKY CEMENT   \n",
       "\n",
       "                                              英文通訊地址          傳真機號碼  \\\n",
       "0  No.113, Sec.2, Zhongshan N. Rd.,Taipei City 10...  (02)2531-6529   \n",
       "1  30TH FLOOR,TAIPEI METRO TOWER,207.TUN HWA SOUT...   02-2378-5191   \n",
       "2  No.96, Sec. 2, Zhongshan N. Rd., Zhongshan Dis...  (02)2511-4002   \n",
       "3    10th F1., 125 Nanking E.Rd Sec. 2,Taipei Taiwan    02-25075870   \n",
       "4  15TH FL.,NO.237,SUNG KIANG RD.,TAIPEI,TAIWAN,R...       25048672   \n",
       "\n",
       "                               電子郵件信箱                          網址   \n",
       "0            finance@taiwancement.com  http://www.taiwancement.com  \n",
       "1                  service@acc.com.tw               www.acc.com.tw  \n",
       "2  investor-relations@chcgroup.com.tw          www.chcgroup.com.tw  \n",
       "3                       ucc@ucctw.com                www.ucctw.com  \n",
       "4               wendy@luckygrp,com.tw          www.luckygrp.com.tw  \n",
       "\n",
       "[5 rows x 26 columns]"
      ]
     },
     "execution_count": 8,
     "metadata": {},
     "output_type": "execute_result"
    }
   ],
   "source": [
    "r = requests.get(\"http://dts.twse.com.tw/opendata/t187ap03_L.csv\")\n",
    "r.encoding=\"big5\"\n",
    "com = r.text.split(\"\\r\\n\")\n",
    "\n",
    "com = io.StringIO(r.text)\n",
    "TSE_com = pd.read_csv(com, skiprows=1,index_col=False)\n",
    "TSE_com.head()"
   ]
  },
  {
   "cell_type": "markdown",
   "metadata": {},
   "source": [
    "# Q4. 畫出技術曲線\n",
    "\n",
    "請畫出除了上課提過的線型之外的任何技術曲線，並寫註解說明。"
   ]
  },
  {
   "cell_type": "code",
   "execution_count": 9,
   "metadata": {
    "collapsed": true
   },
   "outputs": [],
   "source": [
    "# 匯入資料\n",
    "df1 = data['AAPL']"
   ]
  },
  {
   "cell_type": "code",
   "execution_count": 10,
   "metadata": {
    "collapsed": true
   },
   "outputs": [],
   "source": [
    "# 計算 MACD\n",
    "df1['DIF'] = pd.Series.ewm(df1['Close'],span=12,min_periods=1).mean()-pd.Series.ewm(df1['Close'],span=26,min_periods=1).mean()\n",
    "df1['DEA'] = pd.Series.ewm(df1['DIF'],span=9,min_periods=1).mean()\n",
    "df1['MACD'] = (df1['DIF']-df1['DEA'])*2"
   ]
  },
  {
   "cell_type": "code",
   "execution_count": 11,
   "metadata": {},
   "outputs": [
    {
     "data": {
      "text/plain": [
       "[<matplotlib.lines.Line2D at 0x203df32ecc0>,\n",
       " <matplotlib.lines.Line2D at 0x203df327c18>]"
      ]
     },
     "execution_count": 11,
     "metadata": {},
     "output_type": "execute_result"
    },
    {
     "data": {
      "text/plain": [
       "<matplotlib.figure.Figure at 0x203debe5b00>"
      ]
     },
     "metadata": {},
     "output_type": "display_data"
    },
    {
     "data": {
      "image/png": "[encoded data removed]",
      "text/plain": [
       "<matplotlib.figure.Figure at 0x203debe5710>"
      ]
     },
     "metadata": {},
     "output_type": "display_data"
    }
   ],
   "source": [
    "# 分別畫出DIF.DEA與MACD兩張圖並合併\n",
    "plt.figure()\n",
    "ax = df1[['MACD']].plot(kind=\"bar\",color='g');plt.xticks(rotation=0)\n",
    "ax2 = ax.twinx()\n",
    "ax2.plot(ax.get_xticks(),df1[['DIF', 'DEA']])"
   ]
  },
  {
   "cell_type": "markdown",
   "metadata": {},
   "source": [
    "# Q5. 策略回測"
   ]
  },
  {
   "cell_type": "code",
   "execution_count": 12,
   "metadata": {
    "collapsed": true
   },
   "outputs": [],
   "source": [
    "# 計算 MaxDD\n",
    "def DrawDownAnalysis(cumRet):\n",
    "    dd_series = ffn.core.to_drawdown_series(cumRet)\n",
    "    dd_details = ffn.core.drawdown_details(dd_series)\n",
    "    return dd_details['drawdown'].min(), dd_details['days'].max()"
   ]
  },
  {
   "cell_type": "code",
   "execution_count": 13,
   "metadata": {
    "collapsed": true
   },
   "outputs": [],
   "source": [
    "# 利用策略產生的持有部位資訊，計算底下四個指標來判斷投資績效\n",
    "# sharpe ratio: 判斷報酬的好壞跟穩定度，數值越大越好\n",
    "# maxdd: maximum drawdown, 最糟糕的狀況會賠幾 %\n",
    "# maxddd: maximum drawdown duration, 低於上一次最高報酬的天數\n",
    "# cumRet[-1]: 最後賺的 % 數\n",
    "\n",
    "def indicators(df):\n",
    "    dailyRet = df['Close'].pct_change()\n",
    "    excessRet = (dailyRet - 0.04/252)[df['positions'] == 1]\n",
    "    SharpeRatio = np.sqrt(252.0)*np.mean(excessRet)/np.std(excessRet)\n",
    "    \n",
    "    cumRet = np.cumprod(1+excessRet)\n",
    "    \n",
    "    maxdd, maxddd = DrawDownAnalysis(cumRet)\n",
    "    \n",
    "    return SharpeRatio, maxdd, maxddd, cumRet[-1]"
   ]
  },
  {
   "cell_type": "code",
   "execution_count": 14,
   "metadata": {
    "collapsed": true
   },
   "outputs": [],
   "source": [
    "def Breakout_strategy(df):\n",
    "    # Donchian Channel\n",
    "    df['20d_high'] = np.round(pd.Series.rolling(df['Close'], window=20).max(), 2)\n",
    "    df['10d_low'] = np.round(pd.Series.rolling(df['Close'], window=10).min(), 2)\n",
    "\n",
    "    has_position = False\n",
    "    df['signals'] = 0\n",
    "    for t in range(2, df['signals'].size):\n",
    "        if df['Close'][t] > df['20d_high'][t-1]:\n",
    "            if not has_position:\n",
    "                df.loc[df.index[t], 'signals'] = 1\n",
    "                has_position = True\n",
    "        elif df['Close'][t] < df['10d_low'][t-1]:\n",
    "            if has_position:\n",
    "                df.loc[df.index[t], 'signals'] = -1\n",
    "                has_position = False\n",
    "\n",
    "    df['positions'] = df['signals'].cumsum().shift()\n",
    "    return df"
   ]
  },
  {
   "cell_type": "code",
   "execution_count": 15,
   "metadata": {
    "collapsed": true
   },
   "outputs": [],
   "source": [
    "def RSI_7030_strategy(df):\n",
    "    df['RSI'] = talib.RSI(df['Close'].values)\n",
    "    \n",
    "    has_position = False\n",
    "    df['signals'] = 0\n",
    "    for t in range(2, df['signals'].size):\n",
    "        if df['RSI'][t-1] < 30:\n",
    "            if not has_position:\n",
    "                df.loc[df.index[t], 'signals'] = 1\n",
    "                has_position = True\n",
    "        elif df['RSI'][t-1] > 70:\n",
    "            if has_position:\n",
    "                df.loc[df.index[t], 'signals'] = -1\n",
    "                has_position = False\n",
    "\n",
    "    df['positions'] = df['signals'].cumsum().shift()\n",
    "    return df"
   ]
  },
  {
   "cell_type": "code",
   "execution_count": 16,
   "metadata": {
    "collapsed": true
   },
   "outputs": [],
   "source": [
    "def BBands_strategy(df):\n",
    "    df['UBB'], df['MBB'], df['LBB'] = talib.BBANDS(df['Close'].values, matype=MA_Type.T3)\n",
    "\n",
    "    has_position = False\n",
    "    df['signals'] = 0\n",
    "    for t in range(2, df['signals'].size):\n",
    "        if df['Close'][t] < df['LBB'][t-1]:\n",
    "            if not has_position:\n",
    "                df.loc[df.index[t], 'signals'] = 1\n",
    "                has_position = True\n",
    "        elif df['Close'][t] > df['UBB'][t-1]:\n",
    "            if has_position:\n",
    "                df.loc[df.index[t], 'signals'] = -1\n",
    "                has_position = False\n",
    "\n",
    "    df['positions'] = df['signals'].cumsum().shift()\n",
    "    return df"
   ]
  },
  {
   "cell_type": "code",
   "execution_count": 17,
   "metadata": {
    "collapsed": true
   },
   "outputs": [],
   "source": [
    "# MACD: 進場條件:DIF.DEA皆小於 0 且 黃金交叉\n",
    "#       出場條件:DIF.DEA皆大於 0 且 死亡交叉\n",
    "\n",
    "def M064030013_strategy(df):\n",
    "    df['DIF'] = pd.Series.ewm(df['Close'],span=12,min_periods=1).mean()-pd.Series.ewm(df['Close'],span=26,min_periods=1).mean()\n",
    "    df['DEA'] = pd.Series.ewm(df['DIF'],span=9,min_periods=1).mean()\n",
    "    df['MACD'] = (df['DIF']-df['DEA'])*2\n",
    "    \n",
    "    has_position = False\n",
    "    df['signals'] = 0\n",
    "    \n",
    "    for t in range(2, df['signals'].size):\n",
    "            if df['DIF'][t] > df['DEA'][t] and df['DIF'][t-1] < df['DEA'][t-1] and df['DIF'][t] < 0 and df['DEA'][t] < 0:\n",
    "                if not has_position:\n",
    "                    df.loc[df.index[t], 'signals'] = 1\n",
    "                    has_position = True\n",
    "            elif df['DIF'][t] < df['DEA'][t] and df['DIF'][t-1] > df['DEA'][t-1] and df['DIF'][t] > 0 and df['DEA'][t] > 0:\n",
    "                if has_position:\n",
    "                    df.loc[df.index[t], 'signals'] = -1\n",
    "                    has_position = False\n",
    "                    \n",
    "    df['positions'] = df['signals'].cumsum().shift()\n",
    "    return df"
   ]
  },
  {
   "cell_type": "code",
   "execution_count": 18,
   "metadata": {
    "collapsed": true
   },
   "outputs": [],
   "source": [
    "def apply_strategy(strategy, df):\n",
    "    return strategy(df)"
   ]
  },
  {
   "cell_type": "code",
   "execution_count": 19,
   "metadata": {
    "collapsed": true
   },
   "outputs": [],
   "source": [
    "# 計算各支股票的回測結果\n",
    "results = []\n",
    "\n",
    "#strategies = [Breakout_strategy, RSI_7030_strategy, BBands_strategy, 學號_strategy]\n",
    "strategies = [Breakout_strategy, RSI_7030_strategy, BBands_strategy,M064030013_strategy]\n",
    "\n",
    "for symbol in data:\n",
    "    for strategy in strategies:\n",
    "        try:\n",
    "            apply_strategy(strategy, data[symbol])\n",
    "            if np.all(data[symbol]['signals']==0):\n",
    "                print(\"Symbol:\", symbol, \"使用\", strategy.__name__, \"策略沒有出現買賣訊號。\")\n",
    "                continue\n",
    "            SharpeRatio, maxdd, maxddd, finalRet = indicators(data[symbol])\n",
    "            days = (data[symbol].index[-1] - data[symbol].index[0]).days\n",
    "            results.append((SharpeRatio, maxdd, maxddd, finalRet, days,\n",
    "                            data[symbol][data[symbol]['signals'] > 0]['signals'].sum(), symbol, strategy.__name__))\n",
    "        except Exception as e:\n",
    "            print(\"Error occurs at symbol:\", symbol, \"Strategy:\", strategy.__name__, \"==>\", e.args)"
   ]
  },
  {
   "cell_type": "code",
   "execution_count": 20,
   "metadata": {
    "collapsed": true
   },
   "outputs": [],
   "source": [
    "results_df = pd.DataFrame(results, columns=['sharpe','MaxDrawDown','MaxDrawDownDuration','returns', \n",
    "                                            'days', 'entries','symbol','strategy'])"
   ]
  },
  {
   "cell_type": "code",
   "execution_count": 21,
   "metadata": {},
   "outputs": [
    {
     "data": {
      "text/html": [
       "<div>\n",
       "<style>\n",
       "    .dataframe thead tr:only-child th {\n",
       "        text-align: right;\n",
       "    }\n",
       "\n",
       "    .dataframe thead th {\n",
       "        text-align: left;\n",
       "    }\n",
       "\n",
       "    .dataframe tbody tr th {\n",
       "        vertical-align: top;\n",
       "    }\n",
       "</style>\n",
       "<table border=\"1\" class=\"dataframe\">\n",
       "  <thead>\n",
       "    <tr style=\"text-align: right;\">\n",
       "      <th></th>\n",
       "      <th>sharpe</th>\n",
       "      <th>MaxDrawDown</th>\n",
       "      <th>MaxDrawDownDuration</th>\n",
       "      <th>returns</th>\n",
       "      <th>days</th>\n",
       "      <th>entries</th>\n",
       "      <th>symbol</th>\n",
       "      <th>strategy</th>\n",
       "    </tr>\n",
       "  </thead>\n",
       "  <tbody>\n",
       "    <tr>\n",
       "      <th>0</th>\n",
       "      <td>0.131503</td>\n",
       "      <td>-0.208296</td>\n",
       "      <td>281</td>\n",
       "      <td>0.995734</td>\n",
       "      <td>705</td>\n",
       "      <td>11</td>\n",
       "      <td>TICC</td>\n",
       "      <td>Breakout_strategy</td>\n",
       "    </tr>\n",
       "    <tr>\n",
       "      <th>1</th>\n",
       "      <td>0.395515</td>\n",
       "      <td>-0.244817</td>\n",
       "      <td>482</td>\n",
       "      <td>1.077756</td>\n",
       "      <td>705</td>\n",
       "      <td>2</td>\n",
       "      <td>TICC</td>\n",
       "      <td>RSI_7030_strategy</td>\n",
       "    </tr>\n",
       "    <tr>\n",
       "      <th>2</th>\n",
       "      <td>0.102787</td>\n",
       "      <td>-0.231763</td>\n",
       "      <td>426</td>\n",
       "      <td>0.984521</td>\n",
       "      <td>705</td>\n",
       "      <td>20</td>\n",
       "      <td>TICC</td>\n",
       "      <td>BBands_strategy</td>\n",
       "    </tr>\n",
       "    <tr>\n",
       "      <th>3</th>\n",
       "      <td>0.629635</td>\n",
       "      <td>-0.163074</td>\n",
       "      <td>356</td>\n",
       "      <td>1.119011</td>\n",
       "      <td>705</td>\n",
       "      <td>8</td>\n",
       "      <td>TICC</td>\n",
       "      <td>M064030013_strategy</td>\n",
       "    </tr>\n",
       "    <tr>\n",
       "      <th>4</th>\n",
       "      <td>1.365570</td>\n",
       "      <td>-0.361485</td>\n",
       "      <td>299</td>\n",
       "      <td>1.631388</td>\n",
       "      <td>705</td>\n",
       "      <td>12</td>\n",
       "      <td>TWIN</td>\n",
       "      <td>Breakout_strategy</td>\n",
       "    </tr>\n",
       "  </tbody>\n",
       "</table>\n",
       "</div>"
      ],
      "text/plain": [
       "     sharpe  MaxDrawDown  MaxDrawDownDuration   returns  days  entries symbol  \\\n",
       "0  0.131503    -0.208296                  281  0.995734   705       11   TICC   \n",
       "1  0.395515    -0.244817                  482  1.077756   705        2   TICC   \n",
       "2  0.102787    -0.231763                  426  0.984521   705       20   TICC   \n",
       "3  0.629635    -0.163074                  356  1.119011   705        8   TICC   \n",
       "4  1.365570    -0.361485                  299  1.631388   705       12   TWIN   \n",
       "\n",
       "              strategy  \n",
       "0    Breakout_strategy  \n",
       "1    RSI_7030_strategy  \n",
       "2      BBands_strategy  \n",
       "3  M064030013_strategy  \n",
       "4    Breakout_strategy  "
      ]
     },
     "execution_count": 21,
     "metadata": {},
     "output_type": "execute_result"
    }
   ],
   "source": [
    "results_df.head()"
   ]
  },
  {
   "cell_type": "code",
   "execution_count": 22,
   "metadata": {},
   "outputs": [
    {
     "data": {
      "text/html": [
       "<div>\n",
       "<style>\n",
       "    .dataframe thead tr:only-child th {\n",
       "        text-align: right;\n",
       "    }\n",
       "\n",
       "    .dataframe thead th {\n",
       "        text-align: left;\n",
       "    }\n",
       "\n",
       "    .dataframe tbody tr th {\n",
       "        vertical-align: top;\n",
       "    }\n",
       "</style>\n",
       "<table border=\"1\" class=\"dataframe\">\n",
       "  <thead>\n",
       "    <tr style=\"text-align: right;\">\n",
       "      <th></th>\n",
       "      <th>sharpe</th>\n",
       "      <th>MaxDrawDown</th>\n",
       "      <th>MaxDrawDownDuration</th>\n",
       "      <th>returns</th>\n",
       "      <th>days</th>\n",
       "      <th>entries</th>\n",
       "      <th>symbol</th>\n",
       "      <th>strategy</th>\n",
       "    </tr>\n",
       "  </thead>\n",
       "  <tbody>\n",
       "    <tr>\n",
       "      <th>73</th>\n",
       "      <td>6.306176</td>\n",
       "      <td>-0.003654</td>\n",
       "      <td>122</td>\n",
       "      <td>1.028222</td>\n",
       "      <td>473</td>\n",
       "      <td>3</td>\n",
       "      <td>LCA</td>\n",
       "      <td>RSI_7030_strategy</td>\n",
       "    </tr>\n",
       "    <tr>\n",
       "      <th>17</th>\n",
       "      <td>10.243474</td>\n",
       "      <td>-0.006251</td>\n",
       "      <td>3</td>\n",
       "      <td>1.132402</td>\n",
       "      <td>705</td>\n",
       "      <td>1</td>\n",
       "      <td>GOOG</td>\n",
       "      <td>RSI_7030_strategy</td>\n",
       "    </tr>\n",
       "    <tr>\n",
       "      <th>74</th>\n",
       "      <td>2.038551</td>\n",
       "      <td>-0.013673</td>\n",
       "      <td>119</td>\n",
       "      <td>1.060527</td>\n",
       "      <td>473</td>\n",
       "      <td>16</td>\n",
       "      <td>LCA</td>\n",
       "      <td>BBands_strategy</td>\n",
       "    </tr>\n",
       "    <tr>\n",
       "      <th>66</th>\n",
       "      <td>1.085572</td>\n",
       "      <td>-0.023454</td>\n",
       "      <td>135</td>\n",
       "      <td>1.049505</td>\n",
       "      <td>384</td>\n",
       "      <td>12</td>\n",
       "      <td>SCAC</td>\n",
       "      <td>BBands_strategy</td>\n",
       "    </tr>\n",
       "    <tr>\n",
       "      <th>36</th>\n",
       "      <td>3.040178</td>\n",
       "      <td>-0.023844</td>\n",
       "      <td>58</td>\n",
       "      <td>1.073352</td>\n",
       "      <td>203</td>\n",
       "      <td>3</td>\n",
       "      <td>CSML</td>\n",
       "      <td>Breakout_strategy</td>\n",
       "    </tr>\n",
       "  </tbody>\n",
       "</table>\n",
       "</div>"
      ],
      "text/plain": [
       "       sharpe  MaxDrawDown  MaxDrawDownDuration   returns  days  entries  \\\n",
       "73   6.306176    -0.003654                  122  1.028222   473        3   \n",
       "17  10.243474    -0.006251                    3  1.132402   705        1   \n",
       "74   2.038551    -0.013673                  119  1.060527   473       16   \n",
       "66   1.085572    -0.023454                  135  1.049505   384       12   \n",
       "36   3.040178    -0.023844                   58  1.073352   203        3   \n",
       "\n",
       "   symbol           strategy  \n",
       "73    LCA  RSI_7030_strategy  \n",
       "17   GOOG  RSI_7030_strategy  \n",
       "74    LCA    BBands_strategy  \n",
       "66   SCAC    BBands_strategy  \n",
       "36   CSML  Breakout_strategy  "
      ]
     },
     "execution_count": 22,
     "metadata": {},
     "output_type": "execute_result"
    }
   ],
   "source": [
    "results_df.sort_values('MaxDrawDown',ascending=False).head()"
   ]
  },
  {
   "cell_type": "code",
   "execution_count": 23,
   "metadata": {},
   "outputs": [
    {
     "data": {
      "text/html": [
       "<div>\n",
       "<style>\n",
       "    .dataframe thead tr:only-child th {\n",
       "        text-align: right;\n",
       "    }\n",
       "\n",
       "    .dataframe thead th {\n",
       "        text-align: left;\n",
       "    }\n",
       "\n",
       "    .dataframe tbody tr th {\n",
       "        vertical-align: top;\n",
       "    }\n",
       "</style>\n",
       "<table border=\"1\" class=\"dataframe\">\n",
       "  <thead>\n",
       "    <tr style=\"text-align: right;\">\n",
       "      <th></th>\n",
       "      <th>sharpe</th>\n",
       "      <th>MaxDrawDown</th>\n",
       "      <th>MaxDrawDownDuration</th>\n",
       "      <th>returns</th>\n",
       "      <th>days</th>\n",
       "      <th>entries</th>\n",
       "      <th>symbol</th>\n",
       "      <th>strategy</th>\n",
       "    </tr>\n",
       "  </thead>\n",
       "  <tbody>\n",
       "    <tr>\n",
       "      <th>9</th>\n",
       "      <td>2.013777</td>\n",
       "      <td>-0.219296</td>\n",
       "      <td>167</td>\n",
       "      <td>2.477803</td>\n",
       "      <td>705</td>\n",
       "      <td>4</td>\n",
       "      <td>AMOT</td>\n",
       "      <td>RSI_7030_strategy</td>\n",
       "    </tr>\n",
       "    <tr>\n",
       "      <th>14</th>\n",
       "      <td>2.062962</td>\n",
       "      <td>-0.286661</td>\n",
       "      <td>113</td>\n",
       "      <td>2.422460</td>\n",
       "      <td>705</td>\n",
       "      <td>22</td>\n",
       "      <td>CDZI</td>\n",
       "      <td>BBands_strategy</td>\n",
       "    </tr>\n",
       "    <tr>\n",
       "      <th>78</th>\n",
       "      <td>2.136744</td>\n",
       "      <td>-0.454342</td>\n",
       "      <td>191</td>\n",
       "      <td>2.400221</td>\n",
       "      <td>705</td>\n",
       "      <td>21</td>\n",
       "      <td>BBGI</td>\n",
       "      <td>BBands_strategy</td>\n",
       "    </tr>\n",
       "    <tr>\n",
       "      <th>5</th>\n",
       "      <td>2.424484</td>\n",
       "      <td>-0.169115</td>\n",
       "      <td>115</td>\n",
       "      <td>2.151881</td>\n",
       "      <td>705</td>\n",
       "      <td>3</td>\n",
       "      <td>TWIN</td>\n",
       "      <td>RSI_7030_strategy</td>\n",
       "    </tr>\n",
       "    <tr>\n",
       "      <th>7</th>\n",
       "      <td>2.219829</td>\n",
       "      <td>-0.171718</td>\n",
       "      <td>229</td>\n",
       "      <td>1.900586</td>\n",
       "      <td>705</td>\n",
       "      <td>7</td>\n",
       "      <td>TWIN</td>\n",
       "      <td>M064030013_strategy</td>\n",
       "    </tr>\n",
       "  </tbody>\n",
       "</table>\n",
       "</div>"
      ],
      "text/plain": [
       "      sharpe  MaxDrawDown  MaxDrawDownDuration   returns  days  entries  \\\n",
       "9   2.013777    -0.219296                  167  2.477803   705        4   \n",
       "14  2.062962    -0.286661                  113  2.422460   705       22   \n",
       "78  2.136744    -0.454342                  191  2.400221   705       21   \n",
       "5   2.424484    -0.169115                  115  2.151881   705        3   \n",
       "7   2.219829    -0.171718                  229  1.900586   705        7   \n",
       "\n",
       "   symbol             strategy  \n",
       "9    AMOT    RSI_7030_strategy  \n",
       "14   CDZI      BBands_strategy  \n",
       "78   BBGI      BBands_strategy  \n",
       "5    TWIN    RSI_7030_strategy  \n",
       "7    TWIN  M064030013_strategy  "
      ]
     },
     "execution_count": 23,
     "metadata": {},
     "output_type": "execute_result"
    }
   ],
   "source": [
    "results_df.sort_values('returns',ascending=False).head()"
   ]
  },
  {
   "cell_type": "code",
   "execution_count": null,
   "metadata": {
    "collapsed": true
   },
   "outputs": [],
   "source": []
  }
 ],
 "metadata": {
  "kernelspec": {
   "display_name": "Python 3",
   "language": "python",
   "name": "python3"
  },
  "language_info": {
   "codemirror_mode": {
    "name": "ipython",
    "version": 3
   },
   "file_extension": ".py",
   "mimetype": "text/x-python",
   "name": "python",
   "nbconvert_exporter": "python",
   "pygments_lexer": "ipython3",
   "version": "3.6.1"
  }
 },
 "nbformat": 4,
 "nbformat_minor": 2
}
