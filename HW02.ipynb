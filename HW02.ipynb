{
 "cells": [
  {
   "cell_type": "code",
   "execution_count": null,
   "metadata": {
    "collapsed": true
   },
   "outputs": [],
   "source": [
    "#載入模組\n",
    "import os"
   ]
  },
  {
   "cell_type": "code",
   "execution_count": null,
   "metadata": {
    "collapsed": true
   },
   "outputs": [],
   "source": [
    "#定義一個main的函式\n",
    "def main():\n",
    "    \n",
    "    #print顯示以下的內容\n",
    "    print(\"Hello World!\")\n",
    "    print(\"This is Alice's greeting.\")\n",
    "    print(\"This is Bob\\'s greeting.\")\n",
    "    \n",
    "    foo(5,10)                                             #給定foo函數2個值並呼叫下方定義的foo函式\n",
    "    \n",
    "    print(\"=\"*10)                                         #顯示 \"=\" 並重複10次\n",
    "    print(\"Current working directory is \" + os.getcwd())  #顯示字串並呼叫出目前的工作目錄\n",
    "    \n",
    "    counter = 0                                           #給定變數counter為 0\n",
    "    counter += 1                                          #counter = counter + 1,最後counter的值為 1\n",
    "    \n",
    "    food = [\"apples\",\"oranges\",\"cats\"]                    #建立一個food的list\n",
    "    for i in food:                                        #利用for迴圈分別顯示出:\n",
    "        print(\"I like to eat \" + i)                       #I like to eat apples\n",
    "                                                          #I like to eat oranges\n",
    "                                                          #I like to eat cats\n",
    "                                                          #其中 i會依序代入food list裡的字串\n",
    "    print(\"Count to ten:\")                                #顯示出Count to ten:\n",
    "    for i in range(1,11):                                 #利用for迴圈顯示出1到10\n",
    "        print(i)                                          #range函數:從數字 1開始到第 11個數字(也就是數字10)結束"
   ]
  },
  {
   "cell_type": "code",
   "execution_count": null,
   "metadata": {},
   "outputs": [],
   "source": [
    "#定義一個foo函式,其中會用到 2個參數\n",
    "def foo(param1,secondParam):\n",
    "    res = param1 + secondParam                                    #定義 res等於兩個參數相加,在main函式中已給定foo(5,10)\n",
    "    print(\"%s plus %s is equal to %s\" % (param1,secondParam,res)) #顯示字串,其中 %s 可由後面 3個參數依序代入\n",
    "    \n",
    "    if res < 50:\n",
    "        print(\"foo\")                                              #當res小於50時,顯示foo\n",
    "    elif (res > 50) and ((param1 == 42) or (secondParam == 24)):\n",
    "        print(\"bar\")                                              #當res大於50且(參數 1等於42或參數 2等於24)時,顯示bar\n",
    "    else:\n",
    "        print(\"moo\")                                              #若不符合上述兩條件,則顯示moo\n",
    "    \n",
    "    return res                                                    #此函式中有用到參數,使用return回傳res值\n",
    "\n",
    "#到此foo函式已執行完畢,但上方的main函式尚未執行完畢\n",
    "#因此設計以下條件式讓電腦離開foo函式繼續執行main函式\n",
    "if __name__ == '__main__':                                        #當__name__等於__main__時\n",
    "    main()                                                        #執行上方main函式"
   ]
  }
 ],
 "metadata": {
  "kernelspec": {
   "display_name": "Python 3",
   "language": "python",
   "name": "python3"
  },
  "language_info": {
   "codemirror_mode": {
    "name": "ipython",
    "version": 3
   },
   "file_extension": ".py",
   "mimetype": "text/x-python",
   "name": "python",
   "nbconvert_exporter": "python",
   "pygments_lexer": "ipython3",
   "version": "3.6.1"
  }
 },
 "nbformat": 4,
 "nbformat_minor": 2
}
