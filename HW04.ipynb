{
 "cells": [
  {
   "cell_type": "markdown",
   "metadata": {},
   "source": [
    "# 第一部分 九九乘法表"
   ]
  },
  {
   "cell_type": "code",
   "execution_count": null,
   "metadata": {
    "collapsed": true
   },
   "outputs": [],
   "source": [
    "#99乘法表-作法1\n",
    "def table_1(a,b):\n",
    "    print('\\n'.join(['\\t'.join(['%d x %d = %d' % (i,j,i*j) for i in range(a,b+1)]) for j in range(1,10)]))\n",
    "    print('\\n')\n",
    "\n",
    "table_1(1,3)\n",
    "table_1(4,6)\n",
    "table_1(7,9)"
   ]
  },
  {
   "cell_type": "code",
   "execution_count": null,
   "metadata": {
    "collapsed": true
   },
   "outputs": [],
   "source": [
    "#99乘法表-作法2\n",
    "def table_2(a,b):\n",
    "    for i in range(1,10):\n",
    "        for j in range(a,b+1):\n",
    "            print('%s x %s = %s\\t' % (j, i, i*j),end='')\n",
    "        print('')\n",
    "    print('\\n')\n",
    "\n",
    "table_2(1,3)\n",
    "table_2(4,6)\n",
    "table_2(7,9)"
   ]
  },
  {
   "cell_type": "code",
   "execution_count": null,
   "metadata": {
    "collapsed": true
   },
   "outputs": [],
   "source": [
    "#99乘法表-作法3\n",
    "for i in range(1, 10):\n",
    "    for j in range(1, i+1):\n",
    "            print('%sx%s=%s\\t' % (i, j, i*j), end='')\n",
    "    print()"
   ]
  },
  {
   "cell_type": "markdown",
   "metadata": {},
   "source": [
    "# 第二部分"
   ]
  },
  {
   "cell_type": "code",
   "execution_count": null,
   "metadata": {
    "collapsed": true
   },
   "outputs": [],
   "source": [
    "#三角形\n",
    "def triangle(h):\n",
    "    for i in range(h):\n",
    "        print(\" \"*(h-i)+\"*\"*(i)*2+\"*\")\n",
    "\n",
    "triangle(10)"
   ]
  },
  {
   "cell_type": "code",
   "execution_count": null,
   "metadata": {
    "collapsed": true
   },
   "outputs": [],
   "source": [
    "#菱形\n",
    "def diamond(h):\n",
    "    for i in range(h):\n",
    "        print(\" \"*(h-i)+\"*\"*(i)*2+\"*\")\n",
    "    for j in range(h-1):\n",
    "        print(\" \"*(j+2)+\"*\"*(h-j-2)*2+\"*\")\n",
    "\n",
    "diamond(5)"
   ]
  },
  {
   "cell_type": "markdown",
   "metadata": {},
   "source": [
    "# 第三部分 寫入前兩題模組,並使用內部函式"
   ]
  },
  {
   "cell_type": "code",
   "execution_count": null,
   "metadata": {
    "collapsed": true
   },
   "outputs": [],
   "source": [
    "import HW04"
   ]
  },
  {
   "cell_type": "code",
   "execution_count": null,
   "metadata": {},
   "outputs": [],
   "source": [
    "HW04.table_1(1,3)\n",
    "HW04.table_1(4,6)\n",
    "HW04.table_1(7,9)"
   ]
  },
  {
   "cell_type": "code",
   "execution_count": null,
   "metadata": {},
   "outputs": [],
   "source": [
    "HW04.triangle(10)"
   ]
  },
  {
   "cell_type": "code",
   "execution_count": null,
   "metadata": {},
   "outputs": [],
   "source": [
    "HW04.diamond(10)"
   ]
  }
 ],
 "metadata": {
  "kernelspec": {
   "display_name": "Python 3",
   "language": "python",
   "name": "python3"
  },
  "language_info": {
   "codemirror_mode": {
    "name": "ipython",
    "version": 3
   },
   "file_extension": ".py",
   "mimetype": "text/x-python",
   "name": "python",
   "nbconvert_exporter": "python",
   "pygments_lexer": "ipython3",
   "version": "3.6.1"
  }
 },
 "nbformat": 4,
 "nbformat_minor": 2
}
