{
 "cells": [
  {
   "cell_type": "markdown",
   "metadata": {},
   "source": [
    "# 第一部分 九九乘法表"
   ]
  },
  {
   "cell_type": "code",
   "execution_count": 1,
   "metadata": {},
   "outputs": [
    {
     "name": "stdout",
     "output_type": "stream",
     "text": [
      "1 x 1 = 1\t2 x 1 = 2\t3 x 1 = 3\n",
      "1 x 2 = 2\t2 x 2 = 4\t3 x 2 = 6\n",
      "1 x 3 = 3\t2 x 3 = 6\t3 x 3 = 9\n",
      "1 x 4 = 4\t2 x 4 = 8\t3 x 4 = 12\n",
      "1 x 5 = 5\t2 x 5 = 10\t3 x 5 = 15\n",
      "1 x 6 = 6\t2 x 6 = 12\t3 x 6 = 18\n",
      "1 x 7 = 7\t2 x 7 = 14\t3 x 7 = 21\n",
      "1 x 8 = 8\t2 x 8 = 16\t3 x 8 = 24\n",
      "1 x 9 = 9\t2 x 9 = 18\t3 x 9 = 27\n",
      "\n",
      "\n",
      "4 x 1 = 4\t5 x 1 = 5\t6 x 1 = 6\n",
      "4 x 2 = 8\t5 x 2 = 10\t6 x 2 = 12\n",
      "4 x 3 = 12\t5 x 3 = 15\t6 x 3 = 18\n",
      "4 x 4 = 16\t5 x 4 = 20\t6 x 4 = 24\n",
      "4 x 5 = 20\t5 x 5 = 25\t6 x 5 = 30\n",
      "4 x 6 = 24\t5 x 6 = 30\t6 x 6 = 36\n",
      "4 x 7 = 28\t5 x 7 = 35\t6 x 7 = 42\n",
      "4 x 8 = 32\t5 x 8 = 40\t6 x 8 = 48\n",
      "4 x 9 = 36\t5 x 9 = 45\t6 x 9 = 54\n",
      "\n",
      "\n",
      "7 x 1 = 7\t8 x 1 = 8\t9 x 1 = 9\n",
      "7 x 2 = 14\t8 x 2 = 16\t9 x 2 = 18\n",
      "7 x 3 = 21\t8 x 3 = 24\t9 x 3 = 27\n",
      "7 x 4 = 28\t8 x 4 = 32\t9 x 4 = 36\n",
      "7 x 5 = 35\t8 x 5 = 40\t9 x 5 = 45\n",
      "7 x 6 = 42\t8 x 6 = 48\t9 x 6 = 54\n",
      "7 x 7 = 49\t8 x 7 = 56\t9 x 7 = 63\n",
      "7 x 8 = 56\t8 x 8 = 64\t9 x 8 = 72\n",
      "7 x 9 = 63\t8 x 9 = 72\t9 x 9 = 81\n",
      "\n",
      "\n"
     ]
    }
   ],
   "source": [
    "#99乘法表-作法1\n",
    "def table_1(a,b):\n",
    "    print('\\n'.join(['\\t'.join(['%d x %d = %d' % (i,j,i*j) for i in range(a,b+1)]) for j in range(1,10)]))\n",
    "    print('\\n')\n",
    "\n",
    "table_1(1,3)\n",
    "table_1(4,6)\n",
    "table_1(7,9)"
   ]
  },
  {
   "cell_type": "code",
   "execution_count": 2,
   "metadata": {},
   "outputs": [
    {
     "name": "stdout",
     "output_type": "stream",
     "text": [
      "1 x 1 = 1\t2 x 1 = 2\t3 x 1 = 3\t\n",
      "1 x 2 = 2\t2 x 2 = 4\t3 x 2 = 6\t\n",
      "1 x 3 = 3\t2 x 3 = 6\t3 x 3 = 9\t\n",
      "1 x 4 = 4\t2 x 4 = 8\t3 x 4 = 12\t\n",
      "1 x 5 = 5\t2 x 5 = 10\t3 x 5 = 15\t\n",
      "1 x 6 = 6\t2 x 6 = 12\t3 x 6 = 18\t\n",
      "1 x 7 = 7\t2 x 7 = 14\t3 x 7 = 21\t\n",
      "1 x 8 = 8\t2 x 8 = 16\t3 x 8 = 24\t\n",
      "1 x 9 = 9\t2 x 9 = 18\t3 x 9 = 27\t\n",
      "\n",
      "\n",
      "4 x 1 = 4\t5 x 1 = 5\t6 x 1 = 6\t\n",
      "4 x 2 = 8\t5 x 2 = 10\t6 x 2 = 12\t\n",
      "4 x 3 = 12\t5 x 3 = 15\t6 x 3 = 18\t\n",
      "4 x 4 = 16\t5 x 4 = 20\t6 x 4 = 24\t\n",
      "4 x 5 = 20\t5 x 5 = 25\t6 x 5 = 30\t\n",
      "4 x 6 = 24\t5 x 6 = 30\t6 x 6 = 36\t\n",
      "4 x 7 = 28\t5 x 7 = 35\t6 x 7 = 42\t\n",
      "4 x 8 = 32\t5 x 8 = 40\t6 x 8 = 48\t\n",
      "4 x 9 = 36\t5 x 9 = 45\t6 x 9 = 54\t\n",
      "\n",
      "\n",
      "7 x 1 = 7\t8 x 1 = 8\t9 x 1 = 9\t\n",
      "7 x 2 = 14\t8 x 2 = 16\t9 x 2 = 18\t\n",
      "7 x 3 = 21\t8 x 3 = 24\t9 x 3 = 27\t\n",
      "7 x 4 = 28\t8 x 4 = 32\t9 x 4 = 36\t\n",
      "7 x 5 = 35\t8 x 5 = 40\t9 x 5 = 45\t\n",
      "7 x 6 = 42\t8 x 6 = 48\t9 x 6 = 54\t\n",
      "7 x 7 = 49\t8 x 7 = 56\t9 x 7 = 63\t\n",
      "7 x 8 = 56\t8 x 8 = 64\t9 x 8 = 72\t\n",
      "7 x 9 = 63\t8 x 9 = 72\t9 x 9 = 81\t\n",
      "\n",
      "\n"
     ]
    }
   ],
   "source": [
    "#99乘法表-作法2\n",
    "def table_2(a,b):\n",
    "    for i in range(1,10):\n",
    "        for j in range(a,b+1):\n",
    "            print('%s x %s = %s\\t' % (j, i, i*j),end='')\n",
    "        print('')\n",
    "    print('\\n')\n",
    "\n",
    "table_2(1,3)\n",
    "table_2(4,6)\n",
    "table_2(7,9)"
   ]
  },
  {
   "cell_type": "code",
   "execution_count": 3,
   "metadata": {},
   "outputs": [
    {
     "name": "stdout",
     "output_type": "stream",
     "text": [
      "1x1=1\t\n",
      "2x1=2\t2x2=4\t\n",
      "3x1=3\t3x2=6\t3x3=9\t\n",
      "4x1=4\t4x2=8\t4x3=12\t4x4=16\t\n",
      "5x1=5\t5x2=10\t5x3=15\t5x4=20\t5x5=25\t\n",
      "6x1=6\t6x2=12\t6x3=18\t6x4=24\t6x5=30\t6x6=36\t\n",
      "7x1=7\t7x2=14\t7x3=21\t7x4=28\t7x5=35\t7x6=42\t7x7=49\t\n",
      "8x1=8\t8x2=16\t8x3=24\t8x4=32\t8x5=40\t8x6=48\t8x7=56\t8x8=64\t\n",
      "9x1=9\t9x2=18\t9x3=27\t9x4=36\t9x5=45\t9x6=54\t9x7=63\t9x8=72\t9x9=81\t\n"
     ]
    }
   ],
   "source": [
    "#99乘法表-作法3\n",
    "for i in range(1, 10):\n",
    "    for j in range(1, i+1):\n",
    "            print('%sx%s=%s\\t' % (i, j, i*j), end='')\n",
    "    print()"
   ]
  },
  {
   "cell_type": "markdown",
   "metadata": {},
   "source": [
    "# 第二部分"
   ]
  },
  {
   "cell_type": "code",
   "execution_count": 4,
   "metadata": {},
   "outputs": [
    {
     "name": "stdout",
     "output_type": "stream",
     "text": [
      "          *\n",
      "         ***\n",
      "        *****\n",
      "       *******\n",
      "      *********\n",
      "     ***********\n",
      "    *************\n",
      "   ***************\n",
      "  *****************\n",
      " *******************\n"
     ]
    }
   ],
   "source": [
    "#三角形\n",
    "def triangle(h):\n",
    "    for i in range(h):\n",
    "        print(\" \"*(h-i)+\"*\"*(i)*2+\"*\")\n",
    "\n",
    "triangle(10)"
   ]
  },
  {
   "cell_type": "code",
   "execution_count": 5,
   "metadata": {},
   "outputs": [
    {
     "name": "stdout",
     "output_type": "stream",
     "text": [
      "     *\n",
      "    ***\n",
      "   *****\n",
      "  *******\n",
      " *********\n",
      "  *******\n",
      "   *****\n",
      "    ***\n",
      "     *\n"
     ]
    }
   ],
   "source": [
    "#菱形\n",
    "def diamond(h):\n",
    "    for i in range(h):\n",
    "        print(\" \"*(h-i)+\"*\"*(i)*2+\"*\")\n",
    "    for j in range(h-1):\n",
    "        print(\" \"*(j+2)+\"*\"*(h-j-2)*2+\"*\")\n",
    "\n",
    "diamond(5)"
   ]
  },
  {
   "cell_type": "markdown",
   "metadata": {},
   "source": [
    "# 第三部分 寫入前兩題模組,並使用內部函式"
   ]
  },
  {
   "cell_type": "code",
   "execution_count": 6,
   "metadata": {
    "collapsed": true
   },
   "outputs": [],
   "source": [
    "import HW04"
   ]
  },
  {
   "cell_type": "code",
   "execution_count": 7,
   "metadata": {},
   "outputs": [
    {
     "name": "stdout",
     "output_type": "stream",
     "text": [
      "1 x 1 = 1\t2 x 1 = 2\t3 x 1 = 3\n",
      "1 x 2 = 2\t2 x 2 = 4\t3 x 2 = 6\n",
      "1 x 3 = 3\t2 x 3 = 6\t3 x 3 = 9\n",
      "1 x 4 = 4\t2 x 4 = 8\t3 x 4 = 12\n",
      "1 x 5 = 5\t2 x 5 = 10\t3 x 5 = 15\n",
      "1 x 6 = 6\t2 x 6 = 12\t3 x 6 = 18\n",
      "1 x 7 = 7\t2 x 7 = 14\t3 x 7 = 21\n",
      "1 x 8 = 8\t2 x 8 = 16\t3 x 8 = 24\n",
      "1 x 9 = 9\t2 x 9 = 18\t3 x 9 = 27\n",
      "\n",
      "\n",
      "4 x 1 = 4\t5 x 1 = 5\t6 x 1 = 6\n",
      "4 x 2 = 8\t5 x 2 = 10\t6 x 2 = 12\n",
      "4 x 3 = 12\t5 x 3 = 15\t6 x 3 = 18\n",
      "4 x 4 = 16\t5 x 4 = 20\t6 x 4 = 24\n",
      "4 x 5 = 20\t5 x 5 = 25\t6 x 5 = 30\n",
      "4 x 6 = 24\t5 x 6 = 30\t6 x 6 = 36\n",
      "4 x 7 = 28\t5 x 7 = 35\t6 x 7 = 42\n",
      "4 x 8 = 32\t5 x 8 = 40\t6 x 8 = 48\n",
      "4 x 9 = 36\t5 x 9 = 45\t6 x 9 = 54\n",
      "\n",
      "\n",
      "7 x 1 = 7\t8 x 1 = 8\t9 x 1 = 9\n",
      "7 x 2 = 14\t8 x 2 = 16\t9 x 2 = 18\n",
      "7 x 3 = 21\t8 x 3 = 24\t9 x 3 = 27\n",
      "7 x 4 = 28\t8 x 4 = 32\t9 x 4 = 36\n",
      "7 x 5 = 35\t8 x 5 = 40\t9 x 5 = 45\n",
      "7 x 6 = 42\t8 x 6 = 48\t9 x 6 = 54\n",
      "7 x 7 = 49\t8 x 7 = 56\t9 x 7 = 63\n",
      "7 x 8 = 56\t8 x 8 = 64\t9 x 8 = 72\n",
      "7 x 9 = 63\t8 x 9 = 72\t9 x 9 = 81\n",
      "\n",
      "\n"
     ]
    }
   ],
   "source": [
    "HW04.table_1(1,3)\n",
    "HW04.table_1(4,6)\n",
    "HW04.table_1(7,9)"
   ]
  },
  {
   "cell_type": "code",
   "execution_count": 8,
   "metadata": {},
   "outputs": [
    {
     "name": "stdout",
     "output_type": "stream",
     "text": [
      "          *\n",
      "         ***\n",
      "        *****\n",
      "       *******\n",
      "      *********\n",
      "     ***********\n",
      "    *************\n",
      "   ***************\n",
      "  *****************\n",
      " *******************\n"
     ]
    }
   ],
   "source": [
    "HW04.triangle(10)"
   ]
  },
  {
   "cell_type": "code",
   "execution_count": 9,
   "metadata": {},
   "outputs": [
    {
     "name": "stdout",
     "output_type": "stream",
     "text": [
      "          *\n",
      "         ***\n",
      "        *****\n",
      "       *******\n",
      "      *********\n",
      "     ***********\n",
      "    *************\n",
      "   ***************\n",
      "  *****************\n",
      " *******************\n",
      "  *****************\n",
      "   ***************\n",
      "    *************\n",
      "     ***********\n",
      "      *********\n",
      "       *******\n",
      "        *****\n",
      "         ***\n",
      "          *\n"
     ]
    }
   ],
   "source": [
    "HW04.diamond(10)"
   ]
  }
 ],
 "metadata": {
  "kernelspec": {
   "display_name": "Python 3",
   "language": "python",
   "name": "python3"
  },
  "language_info": {
   "codemirror_mode": {
    "name": "ipython",
    "version": 3
   },
   "file_extension": ".py",
   "mimetype": "text/x-python",
   "name": "python",
   "nbconvert_exporter": "python",
   "pygments_lexer": "ipython3",
   "version": "3.6.1"
  }
 },
 "nbformat": 4,
 "nbformat_minor": 2
}
